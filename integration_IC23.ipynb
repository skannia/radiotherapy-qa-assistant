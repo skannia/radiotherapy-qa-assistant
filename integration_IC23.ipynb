{
 "cells": [
  {
   "cell_type": "markdown",
   "id": "a3e92a8d",
   "metadata": {},
   "source": [
    "# Integration notebook template\n",
    "\n",
    "This notebook is a template to help integrate external analysis (for example, the `IC23 Width.ipynb`) into the project `log_QA_IBA.py` workflow.\n",
    "\n",
    "Instructions:\n",
    "1. If you want me to extract code from your external notebook, move the external `.ipynb` file into this repository folder and tell me the filename. I will then read it and create integration code automatically.\n",
    "2. Alternatively, paste the key Python functions from the external notebook into the next code cell (the placeholder) and run the cells to test.\n",
    "\n",
    "This template shows how to: read the parsed data from `log_QA_IBA.py` utilities, call a beam-width / FWHM function, and plot the results. Replace the placeholder implementation with the real one from your external notebook."
   ]
  },
  {
   "cell_type": "code",
   "execution_count": null,
   "id": "24b3033a",
   "metadata": {},
   "outputs": [],
   "source": [
    "# Cell 1: Imports and helper wrappers\n",
    "import pandas as pd\n",
    "import numpy as np\n",
    "import matplotlib.pyplot as plt\n",
    "\n",
    "# Import app helpers (make sure the repo root is on PYTHONPATH when running the notebook)\n",
    "try:\n",
    "    from app_utils import normalize_uploaded_df\n",
    "    print('Imported app_utils')\n",
    "except Exception as e:\n",
    "    print('Could not import app_utils - if running outside Streamlit, ensure the repository root is visible:', e)\n",
    "\n",
    "# Placeholder: paste the IC23 width / processing function here from your external notebook.\n",
    "def compute_ic23_width(signal, x=None):\n",
    "    \"\"\"Placeholder implementation for IC23 width.\n",
    "    Replace this with the code from the external notebook.\n",
    "    Accepts a 1D signal (array-like) and optional x positions. Returns dict with keys: fwhm, peak, fit_params (optional).\n",
    "    \"\"\"\n",
    "    arr = np.asarray(signal)\n",
    "    if x is None:\n",
    "        x = np.arange(len(arr))\n",
    "    peak = np.nanmax(arr)\n",
    "    half = peak / 2.0\n",
    "    # simple half-maximum crossing search (naive)\n",
    "    above = np.where(arr >= half)[0]\n",
    "    if len(above) == 0:\n",
    "        return {'fwhm': np.nan, 'peak': peak}\n",
    "    fwhm = x[above[-1]] - x[above[0]]\n",
    "    return {'fwhm': float(fwhm), 'peak': float(peak)}\n",
    "\n",
    "# Example usage with a CSV file already parsed by the app: replace with your own path or DataFrame\n",
    "# df_record, _ = _safe_read_csv('path/to/record.csv')\n",
    "# df_record, _ = normalize_uploaded_df(df_record)\n",
    "# signal = df_record['some_numeric_column']\n",
    "# result = compute_ic23_width(signal.values)\n",
    "# print(result)"
   ]
  },
  {
   "cell_type": "code",
   "execution_count": null,
   "id": "96175c8a",
   "metadata": {},
   "outputs": [],
   "source": [
    "# Cell 2: Plotting example (replace `signal` with your data)\n",
    "import matplotlib.pyplot as plt\n",
    "# create a fake signal for demo\n",
    "x = np.linspace(-10, 10, 201)\n",
    "signal = np.exp(-0.5*(x/2.0)**2) * 1.0  # gaussian-like\n",
    "res = compute_ic23_width(signal, x)\n",
    "print('Computed result:', res)\n",
    "plt.plot(x, signal, label='Signal')\n",
    "plt.axhline(res['peak']/2, color='red', linestyle='--', label=f'FWHM = {res[\"fwhm\"]:.2f}')\n",
    "plt.title(f'IC23 Width Analysis (Peak = {res[\"peak\"]:.2f}, FWHM = {res[\"fwhm\"]:.2f})')\n",
    "plt.xlabel('Position')\n",
    "plt.ylabel('Signal')\n",
    "plt.legend()\n",
    "plt.grid(True, alpha=0.3)\n",
    "plt.show()"
   ]
  }
 ],
 "metadata": {
  "kernelspec": {
   "display_name": ".venv",
   "language": "python",
   "name": "python3"
  },
  "language_info": {
   "name": "python",
   "version": "3.12.10"
  }
 },
 "nbformat": 4,
 "nbformat_minor": 5
}
